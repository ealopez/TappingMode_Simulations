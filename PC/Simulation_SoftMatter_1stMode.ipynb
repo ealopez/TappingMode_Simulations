{
 "cells": [
  {
   "cell_type": "code",
   "execution_count": 1,
   "metadata": {},
   "outputs": [
    {
     "name": "stdout",
     "output_type": "stream",
     "text": [
      "C:\\Users\\enrique\\GithubRepositories\\tappingmode_simulations\\PC\n"
     ]
    }
   ],
   "source": [
    "from AFM_lib import GenMaxwell_parabolic_LR\n",
    "import numpy as np\n",
    "import matplotlib.pyplot as plt\n",
    "from numba import jit\n",
    "import pandas as pd\n",
    "import os\n",
    "%matplotlib inline\n",
    "\n",
    "path = os.getcwd()\n",
    "print path"
   ]
  },
  {
   "cell_type": "markdown",
   "metadata": {},
   "source": [
    "## First mode results"
   ]
  },
  {
   "cell_type": "code",
   "execution_count": 2,
   "metadata": {
    "collapsed": true
   },
   "outputs": [],
   "source": [
    "k_m1 = 6.5\n",
    "A1, A2, A3 = 230.0e-9, 0.0, 0.0\n",
    "Q1, Q2, Q3 = 150.0, 300.0, 450.0\n",
    "fo1 = 46.0e3\n",
    "R = 10.0e-9\n",
    "\n",
    "period1 = 1.0/fo1\n",
    "dt = period1/10.0e3\n",
    "startprint = 5.0*Q1*period1\n",
    "simultime = startprint + 10.0*period1\n",
    "printstep = period1/1.0e3"
   ]
  },
  {
   "cell_type": "code",
   "execution_count": 3,
   "metadata": {
    "collapsed": true
   },
   "outputs": [],
   "source": [
    "df_G = pd.read_csv('PC.txt', delimiter='\\t', header=None)\n",
    "tau = df_G.iloc[:,0].values\n",
    "G = df_G.iloc[:,1].values\n",
    "Ge = 0.0\n",
    "H = 2.0e-19"
   ]
  },
  {
   "cell_type": "markdown",
   "metadata": {},
   "source": [
    "## Lee & Radok simulation"
   ]
  },
  {
   "cell_type": "code",
   "execution_count": 4,
   "metadata": {},
   "outputs": [
    {
     "name": "stdout",
     "output_type": "stream",
     "text": [
      "Wall time: 6.9 s\n",
      "Wall time: 16.6 s\n",
      "Wall time: 16 s\n",
      "Wall time: 15.5 s\n",
      "Wall time: 15.5 s\n",
      "Wall time: 15.7 s\n",
      "Wall time: 15.8 s\n",
      "Wall time: 16 s\n",
      "Wall time: 16.1 s\n",
      "Wall time: 16.2 s\n",
      "Wall time: 16.3 s\n",
      "Wall time: 16.4 s\n",
      "Wall time: 16.5 s\n",
      "Wall time: 16.5 s\n",
      "Wall time: 16.6 s\n",
      "Wall time: 16.7 s\n",
      "Wall time: 16.7 s\n",
      "Wall time: 16.7 s\n",
      "Wall time: 16.8 s\n",
      "Wall time: 16.9 s\n",
      "Wall time: 16.9 s\n",
      "Wall time: 16.9 s\n",
      "Wall time: 16.9 s\n",
      "Wall time: 17.2 s\n",
      "Wall time: 17.4 s\n",
      "Wall time: 17.2 s\n",
      "Wall time: 17.4 s\n",
      "Wall time: 17.4 s\n",
      "Wall time: 17.2 s\n",
      "Wall time: 17.2 s\n",
      "Wall time: 17.3 s\n",
      "Wall time: 17.6 s\n",
      "Wall time: 17.4 s\n"
     ]
    }
   ],
   "source": [
    "os.chdir(path + '/1stMode')\n",
    "zb = A1\n",
    "GenMaxwell_jit = jit()(GenMaxwell_parabolic_LR)\n",
    "while zb > -100.0e-9:\n",
    "    %time t, tip, Fts, xb = GenMaxwell_jit(G, tau, R, dt, startprint, simultime, fo1, k_m1, A1, A2, A3, zb, printstep, Ge, Q1, Q2, Q3, H)\n",
    "    name = str(int(zb*1.0e9)) + '.txt'\n",
    "    np.savetxt('%s'%name, np.array((t*1.0e6, tip*1.0e9, Fts*1.0e9, xb*1.0e9)).T, delimiter='\\t', header = 'time(us)\\ttip(nm)\\tFts(nN)\\tXb(nm)')\n",
    "    zb = zb - 10.0e-9"
   ]
  },
  {
   "cell_type": "markdown",
   "metadata": {},
   "source": [
    "## Postprocessing Calculations"
   ]
  },
  {
   "cell_type": "code",
   "execution_count": 5,
   "metadata": {
    "collapsed": true
   },
   "outputs": [],
   "source": [
    "from glob import glob\n",
    "os.chdir(path)\n",
    "from AFM_calculations import av_dt, Amp_Phase, E_diss, V_ts, Ediss_Tamayo, virial_Lozano\n",
    "\n",
    "os.chdir(path + '/1stMode')\n",
    "files = glob('*.txt')\n",
    "\n",
    "zeq = []\n",
    "peakF = []\n",
    "maxdepth = []\n",
    "amp = []\n",
    "phase = []\n",
    "Ediss = []\n",
    "Ediss_tamayo = []\n",
    "Vdiss_lozano = []\n",
    "Vdiss = []\n",
    "\n",
    "for i in files:\n",
    "    res = np.loadtxt('%s'%i, skiprows=1)\n",
    "    t = res[::10,0]*1.0e-6\n",
    "    dt = av_dt(t)\n",
    "    \n",
    "    tip = res[::10,1]*1.0e-9\n",
    "    A,phi = Amp_Phase(t, tip, fo1)\n",
    "    Fts = res[::10,2]*1.0e-9\n",
    "    Ets = E_diss(tip, Fts, dt, fo1)\n",
    "    fts_peak = Fts[np.argmax(Fts)]\n",
    "    xb = res[::10,3]*1.0e-9\n",
    "    tip_depth = xb[np.argmax(tip)] -xb[np.argmin(tip)]\n",
    "    zb = i.rstrip('.txt')\n",
    "    Vts = V_ts(tip-float(zb)*1.0e-9, Fts, dt)\n",
    "    Ets_tamayo = Ediss_Tamayo(k_m1, Q1, A1, A, phi)\n",
    "    Vts_lozano = virial_Lozano(k_m1, Q1, A1, A, phi)\n",
    "    \n",
    "    #Attaching values to arrays\n",
    "    zeq.append(float(int(zb)))\n",
    "    peakF.append(fts_peak)\n",
    "    maxdepth.append(tip_depth)\n",
    "    amp.append(A)\n",
    "    phase.append(phi)\n",
    "    Ediss.append(Ets)\n",
    "    Vdiss.append(Vts)\n",
    "    Vdiss_lozano.append(Vts_lozano)\n",
    "    Ediss_tamayo.append(Ets_tamayo)\n",
    "    #plt.plot(t, tip)\n",
    "\n",
    "zeq = np.array(zeq)\n",
    "peakF= np.array(peakF)\n",
    "maxdepth = np.array(maxdepth)\n",
    "amp = np.array(amp)\n",
    "phase = np.array(phase)\n",
    "Ediss = np.array(Ediss)\n",
    "Vdiss = np.array(Vdiss)\n",
    "Vdiss_lozano = np.array(Vdiss_lozano)\n",
    "Ediss_tamayo = np.array(Ediss_tamayo)"
   ]
  },
  {
   "cell_type": "markdown",
   "metadata": {},
   "source": [
    "## Plotting and saving results"
   ]
  },
  {
   "cell_type": "code",
   "execution_count": 6,
   "metadata": {},
   "outputs": [
    {
     "data": {
      "image/png": "[encoded data removed]",
      "text/plain": [
       "<matplotlib.figure.Figure at 0xbe04438>"
      ]
     },
     "metadata": {},
     "output_type": "display_data"
    }
   ],
   "source": [
    "A1 = 230.0e-9   #amplitude of the 1st mode\n",
    "\n",
    "os.chdir(path + '/1stMode')\n",
    "plt.plot(amp/A1, -maxdepth*1.0e9, '*')\n",
    "plt.xlabel('$A_0/A_1$', fontsize =15)\n",
    "plt.ylabel('Maximum Penetration, nm', fontsize=15)\n",
    "plt.savefig('Max_penetration.png', bbox_inches='tight')\n",
    "plt.plot(amp/A1, peakF*1.0e9, '*')\n",
    "plt.xlabel('$A_0/A_1$', fontsize =15)\n",
    "plt.ylabel('Peak Force, nN', fontsize=15)\n",
    "plt.savefig('Max_Force.png', bbox_inches='tight')\n",
    "\n",
    "z_sort = np.sort(zeq)\n",
    "index = np.argsort(zeq)\n",
    "maxd = []\n",
    "peakforce = []\n",
    "amplitude = []\n",
    "Ets = []\n",
    "phi = []\n",
    "Vts = []\n",
    "Vts_lozano = []\n",
    "Ets_tamayo = []\n",
    "for i in index:\n",
    "    maxd.append(maxdepth[i])\n",
    "    peakforce.append(peakF[i])\n",
    "    amplitude.append(amp[i])\n",
    "    Ets.append(Ediss[i])\n",
    "    phi.append(phase[i])\n",
    "    Ets_tamayo.append(Ediss_tamayo[i])\n",
    "    Vts.append(Vdiss[i])\n",
    "    Vts_lozano.append(Vdiss_lozano[i])\n",
    "\n",
    "maxd = np.array(maxd)\n",
    "peakforce = np.array(peakforce)\n",
    "amplitude = np.array(amplitude)\n",
    "Ets = np.array(Ets)\n",
    "phi = np.array(phi)\n",
    "Ets_tamayo = np.array(Ets_tamayo)\n",
    "Vts = np.array(Vts)\n",
    "Vts_lozano = np.array(Vts_lozano)\n",
    "\n",
    "np.savetxt('1stMode.txt', np.array((amplitude/A1, peakforce*1.0e9, -maxd*1.0e9, phi, Ets*1.0e18, Ets_tamayo*1.0e18, Vts*1.0e18, Vts_lozano*1.0e18 )).T, delimiter='\\t', header = 'amp_ratio\\tpeakF(nN)\\tmaxdepth(nm)\\tphase(deg)\\tEdiss(aJ)\\tEdiss_Tamayo(aJ)\\tVts(aJ)\\tVts_lozano(aJ)')\n"
   ]
  },
  {
   "cell_type": "code",
   "execution_count": null,
   "metadata": {
    "collapsed": true
   },
   "outputs": [],
   "source": []
  },
  {
   "cell_type": "code",
   "execution_count": null,
   "metadata": {
    "collapsed": true
   },
   "outputs": [],
   "source": []
  },
  {
   "cell_type": "markdown",
   "metadata": {},
   "source": [
    "## MDR Simulation"
   ]
  },
  {
   "cell_type": "code",
   "execution_count": null,
   "metadata": {
    "collapsed": true
   },
   "outputs": [],
   "source": [
    "from AFM_lib import MDR_GenMaxwell_tapping\n",
    "\n",
    "MDR_jit = jit()(MDR_GenMaxwell_tapping)\n",
    "%time t_m, tip_m, Fts_m, xb_m = MDR_jit(G, tau, R, dt, simultime, zb, A1, k_m1, fo1, printstep, 1000, Ge, 5.0e-9, startprint, Q1, Q2, Q3, H, A2, A3)"
   ]
  },
  {
   "cell_type": "code",
   "execution_count": null,
   "metadata": {
    "collapsed": true
   },
   "outputs": [],
   "source": [
    "plt.plot(t_m, Fts_m, label='MDR')\n",
    "plt.plot(time, Fts, label='L&R')\n",
    "plt.legend(loc=1)"
   ]
  },
  {
   "cell_type": "markdown",
   "metadata": {},
   "source": [
    "## Numerical Convolution"
   ]
  },
  {
   "cell_type": "code",
   "execution_count": null,
   "metadata": {
    "collapsed": true
   },
   "outputs": [],
   "source": [
    "from AFM_calculations import derivative_cd, av_dt\n",
    "\n",
    "xb -= max(xb)\n",
    "plt.plot(xb)\n"
   ]
  },
  {
   "cell_type": "code",
   "execution_count": null,
   "metadata": {
    "collapsed": true
   },
   "outputs": [],
   "source": [
    "xb_dot = derivative_cd( (-xb)**1.5, time)  #derivative of the sample displacement\n",
    "G_rel = np.zeros(len(time))\n",
    "for i in range(len(time)):\n",
    "    G_rel[i] = Ge + sum(G[:]*np.exp(-time[i]/tau[:]))   #relaxation modulus of the generalized Wiechert Model\n",
    "dt = av_dt(time)\n",
    "\n",
    "conv = np.convolve(G_rel, xb_dot, mode='full')*dt #convolution of the relaxation modulus with the derivative of sample displacement\n",
    "conv = conv[:len(xb)]\n"
   ]
  },
  {
   "cell_type": "code",
   "execution_count": null,
   "metadata": {
    "collapsed": true
   },
   "outputs": [],
   "source": [
    "alfa = 16.0/3.0*np.sqrt(R)\n",
    "plt.plot( (tip)*1.0e9, Fts, 'b--', lw = 3, label = 'Fts_LRsimul')\n",
    "plt.plot((tip)*1.0e9, conv*alfa, 'r', lw=1.0, label='convolution-LR')\n",
    "plt.legend(loc=1)\n",
    "plt.xlim(-30,10)"
   ]
  },
  {
   "cell_type": "code",
   "execution_count": null,
   "metadata": {
    "collapsed": true
   },
   "outputs": [],
   "source": [
    "plt.plot((tip)*1.0e9,conv*alfa)"
   ]
  },
  {
   "cell_type": "code",
   "execution_count": null,
   "metadata": {
    "collapsed": true
   },
   "outputs": [],
   "source": []
  }
 ],
 "metadata": {
  "kernelspec": {
   "display_name": "Python 2",
   "language": "python",
   "name": "python2"
  },
  "language_info": {
   "codemirror_mode": {
    "name": "ipython",
    "version": 2
   },
   "file_extension": ".py",
   "mimetype": "text/x-python",
   "name": "python",
   "nbconvert_exporter": "python",
   "pygments_lexer": "ipython2",
   "version": "2.7.13"
  }
 },
 "nbformat": 4,
 "nbformat_minor": 2
}
