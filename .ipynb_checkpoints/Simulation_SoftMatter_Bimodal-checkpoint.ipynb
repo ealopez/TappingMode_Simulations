{
 "cells": [
  {
   "cell_type": "markdown",
   "metadata": {},
   "source": [
    "# Simulations for bimodal case"
   ]
  },
  {
   "cell_type": "code",
   "execution_count": 1,
   "metadata": {
    "collapsed": true
   },
   "outputs": [],
   "source": [
    "from AFM_lib import GenMaxwell_parabolic_LR\n",
    "import numpy as np\n",
    "import matplotlib.pyplot as plt\n",
    "from numba import jit\n",
    "import pandas as pd\n",
    "import os\n",
    "%matplotlib inline\n",
    "\n",
    "path = os.getcwd()"
   ]
  },
  {
   "cell_type": "code",
   "execution_count": 2,
   "metadata": {
    "collapsed": true
   },
   "outputs": [],
   "source": [
    "#Cantilever parameters\n",
    "k_m1 = 6.5\n",
    "A1, A2, A3 = 230.0e-9, 6.0e-9, 0.0\n",
    "Q1, Q2, Q3 = 150.0, 300.0, 450.0\n",
    "fo1 = 46.0e3\n",
    "fo2 = 6.27*fo1            # resonance frequency of the second eigenmode (value taken from Garcia, R., & Herruzo, E. T. (2012). The emergence of multifrequency force microscopy. Nature nanotechnology, 7(4), 217-226.)\n",
    "fo3 = 17.6*fo1           # resonance frequency of the third eigenmode (value taken from Garcia, R., & Herruzo, E. T. (2012). The emergence of multifrequency force microscopy. Nature nanotechnology, 7(4), 217-226.)\n",
    "k_m2 = k_m1*(fo2/fo1)**2\n",
    "k_m3 = k_m1*(fo3/fo1)**2\n",
    "R = 10.0e-9\n",
    "\n",
    "period1 = 1.0/fo1\n",
    "period2 = 1.0/fo2\n",
    "\n",
    "dt = period2/10.0e3\n",
    "startprint = 5.0*Q1*period1\n",
    "simultime = startprint + 10.0*period1\n",
    "printstep = period2/1.0e3"
   ]
  },
  {
   "cell_type": "code",
   "execution_count": 3,
   "metadata": {
    "collapsed": true
   },
   "outputs": [],
   "source": [
    "#Sample parameters polyisobutylene\n",
    "df_G = pd.read_csv('PIB.txt', delimiter='\\t', header=None)\n",
    "tau = df_G.iloc[:,0].values\n",
    "G = df_G.iloc[:,1].values\n",
    "Ge = 0.0\n",
    "H = 2.0e-19"
   ]
  },
  {
   "cell_type": "code",
   "execution_count": 4,
   "metadata": {},
   "outputs": [
    {
     "name": "stdout",
     "output_type": "stream",
     "text": [
      "Wall time: 1min 6s\n",
      "Wall time: 2min 56s\n",
      "Wall time: 2min 55s\n",
      "Wall time: 3min 3s\n",
      "Wall time: 3min 3s\n",
      "Wall time: 4min 6s\n",
      "Wall time: 4min 13s\n",
      "Wall time: 3min 50s\n",
      "Wall time: 3min 46s\n",
      "Wall time: 3min 43s\n",
      "Wall time: 3min 32s\n",
      "Wall time: 3min 24s\n",
      "Wall time: 3min 36s\n",
      "Wall time: 3min 37s\n",
      "Wall time: 3min 43s\n",
      "Wall time: 3min 38s\n",
      "Wall time: 3min 27s\n",
      "Wall time: 3min 39s\n",
      "Wall time: 4min 58s\n",
      "Wall time: 4min 43s\n",
      "Wall time: 4min 13s\n",
      "Wall time: 4min 44s\n",
      "Wall time: 3min 43s\n",
      "Wall time: 4min 16s\n",
      "Wall time: 3min 43s\n",
      "Wall time: 3min 54s\n"
     ]
    }
   ],
   "source": [
    "#Running simulation with Lee&Radok scheme\n",
    "os.chdir(path + '/Bimodal')\n",
    "zb = A1+A2\n",
    "GenMaxwell_jit = jit()(GenMaxwell_parabolic_LR)\n",
    "while zb > -20.0e-9:\n",
    "    %time t, tip, Fts, xb = GenMaxwell_jit(G, tau, R, dt, startprint, simultime, fo1, k_m1, A1, A2, A3, zb, printstep, Ge, Q1, Q2, Q3, H)\n",
    "    name = str(int(zb*1.0e9)) + '.txt'\n",
    "    np.savetxt('%s'%name, np.array((t*1.0e6, tip*1.0e9, Fts*1.0e9, xb*1.0e9)).T, delimiter='\\t', header = 'time(us)\\ttip(nm)\\tFts(nN)\\tXb(nm)')\n",
    "    zb = zb - 10.0e-9"
   ]
  },
  {
   "cell_type": "markdown",
   "metadata": {
    "collapsed": true
   },
   "source": [
    "## Postprocessing Results"
   ]
  },
  {
   "cell_type": "code",
   "execution_count": 15,
   "metadata": {},
   "outputs": [],
   "source": [
    "from glob import glob\n",
    "os.chdir(path)\n",
    "from AFM_calculations import av_dt, Amp_Phase, E_diss, V_ts, Ediss_Tamayo, virial_Lozano\n",
    "\n",
    "os.chdir(path + '/Bimodal')\n",
    "files = glob('*.txt')\n",
    "\n",
    "zeq = []\n",
    "peakF = []\n",
    "maxdepth = []\n",
    "amp1 = []\n",
    "amp2 = []\n",
    "phase1 = []\n",
    "phase2 = []\n",
    "Ediss = []\n",
    "Ediss_tamayo = []\n",
    "Vdiss_lozano = []\n",
    "Vdiss = []\n",
    "\n",
    "for i in files:\n",
    "    res = np.loadtxt('%s'%i, skiprows=1)\n",
    "    t = res[::10,0]*1.0e-6\n",
    "    dt = av_dt(t)\n",
    "    \n",
    "    tip = res[::10,1]*1.0e-9\n",
    "    A_t1,phi_t1 = Amp_Phase(t, tip, fo1)\n",
    "    A_t2,phi_t2 = Amp_Phase(t, tip, fo2)\n",
    "    Fts = res[::10,2]*1.0e-9\n",
    "    Ets = E_diss(tip, Fts, dt, fo1)  #dissipated energy per fundamental period\n",
    "    fts_peak = Fts[np.argmax(Fts)]\n",
    "    xb = res[::10,3]*1.0e-9\n",
    "    tip_depth = xb[np.argmax(tip)] -xb[np.argmin(tip)]\n",
    "    zb = i.rstrip('.txt')\n",
    "    Vts = V_ts(tip-float(zb)*1.0e-9, Fts, dt)\n",
    "    Ets_tamayo = Ediss_Tamayo(k_m1, Q1, A1, A_t1, phi_t1)\n",
    "    Ets_t2 = Ediss_Tamayo(k_m2, Q2, A2, A_t2, phi_t2)\n",
    "    Ets_tamayo += Ets_t2*period2/period1  #dissipated energy per fundamental period\n",
    "    Vts_lozano = virial_Lozano(k_m1, Q1, A1, A_t1, phi_t1)\n",
    "    vts_t2 = virial_Lozano(k_m2, Q2, A2, A_t2, phi_t2)\n",
    "    Vts_lozano += vts_t2\n",
    "    \n",
    "    #Attaching values to arrays\n",
    "    zeq.append(float(int(zb)))\n",
    "    peakF.append(fts_peak)\n",
    "    maxdepth.append(tip_depth)\n",
    "    amp1.append(A_t1)\n",
    "    amp2.append(A_t2)\n",
    "    phase1.append(phi_t1)\n",
    "    phase2.append(phi_t2)\n",
    "    Ediss.append(Ets)\n",
    "    Vdiss.append(Vts)\n",
    "    Vdiss_lozano.append(Vts_lozano)\n",
    "    Ediss_tamayo.append(Ets_tamayo)\n",
    "\n",
    "zeq = np.array(zeq)\n",
    "peakF= np.array(peakF)\n",
    "maxdepth = np.array(maxdepth)\n",
    "amp1 = np.array(amp1)\n",
    "amp2 = np.array(amp2)\n",
    "phase1 = np.array(phase1)\n",
    "phase2 = np.array(phase2)\n",
    "Ediss = np.array(Ediss)\n",
    "Vdiss = np.array(Vdiss)\n",
    "Vdiss_lozano = np.array(Vdiss_lozano)\n",
    "Ediss_tamayo = np.array(Ediss_tamayo)"
   ]
  },
  {
   "cell_type": "markdown",
   "metadata": {},
   "source": [
    "## Plotting and saving Results"
   ]
  },
  {
   "cell_type": "code",
   "execution_count": 16,
   "metadata": {},
   "outputs": [
    {
     "data": {
      "image/png": "[encoded data removed]",
      "text/plain": [
       "<matplotlib.figure.Figure at 0xa8f8a90>"
      ]
     },
     "metadata": {},
     "output_type": "display_data"
    }
   ],
   "source": [
    "A1 = 230.0e-9 #amplitude of the 1st mode\n",
    "A2 = 6.0e-9   #amplitude of the 2nd mode\n",
    "\n",
    "os.chdir(path + '/Bimodal')\n",
    "plt.plot( (amp1+amp2)/(A1+A2), -maxdepth*1.0e9, '*')\n",
    "plt.xlabel('$(A_01+A02)/(A_1+A_2)$', fontsize =15)\n",
    "plt.ylabel('Maximum Penetration, nm', fontsize=15)\n",
    "plt.savefig('Max_penetration.png', bbox_inches='tight')\n",
    "plt.plot( (amp1+amp2)/(A1+A2), peakF*1.0e9, '*')\n",
    "plt.xlabel('$(A_01+A02)/(A_1+A_2)$', fontsize =15)\n",
    "plt.ylabel('Peak Force, nN', fontsize=15)\n",
    "plt.savefig('Max_Force.png', bbox_inches='tight')\n",
    "\n",
    "z_sort = np.sort(zeq)\n",
    "index = np.argsort(zeq)\n",
    "maxd = []\n",
    "peakforce = []\n",
    "amplitude1 = []\n",
    "amplitude2 = []\n",
    "Ets = []\n",
    "phi1 = []\n",
    "phi2 = []\n",
    "Vts = []\n",
    "Vts_lozano = []\n",
    "Ets_tamayo = []\n",
    "for i in index:\n",
    "    maxd.append(maxdepth[i])\n",
    "    peakforce.append(peakF[i])\n",
    "    amplitude1.append(amp1[i])\n",
    "    amplitude2.append(amp2[i])\n",
    "    Ets.append(Ediss[i])\n",
    "    phi1.append(phase1[i])\n",
    "    phi2.append(phase2[i])\n",
    "    Ets_tamayo.append(Ediss_tamayo[i])\n",
    "    Vts.append(Vdiss[i])\n",
    "    Vts_lozano.append(Vdiss_lozano[i])\n",
    "\n",
    "maxd = np.array(maxd)\n",
    "peakforce = np.array(peakforce)\n",
    "amplitude1 = np.array(amplitude1)\n",
    "amplitude2 = np.array(amplitude2)\n",
    "Ets = np.array(Ets)\n",
    "phi1 = np.array(phi1)\n",
    "phi2 = np.array(phi2)\n",
    "Ets_tamayo = np.array(Ets_tamayo)\n",
    "Vts = np.array(Vts)\n",
    "Vts_lozano = np.array(Vts_lozano)\n",
    "\n",
    "np.savetxt('Bimodal.txt', np.array(((amplitude1+amplitude2)/(A1+A2), peakforce*1.0e9, -maxd*1.0e9, phi1, phi2, Ets*1.0e18, Ets_tamayo*1.0e18, Vts*1.0e18, Vts_lozano*1.0e18 )).T, delimiter='\\t', header = 'amp_ratio\\tpeakF(nN)\\tmaxdepth(nm)\\tphase1(deg)\\tphase2(deg)\\tEdiss(aJ)\\tEdiss_Tamayo(aJ)\\tVts(aJ)\\tVts_lozano(aJ)')\n"
   ]
  },
  {
   "cell_type": "code",
   "execution_count": null,
   "metadata": {
    "collapsed": true
   },
   "outputs": [],
   "source": []
  }
 ],
 "metadata": {
  "kernelspec": {
   "display_name": "Python 2",
   "language": "python",
   "name": "python2"
  },
  "language_info": {
   "codemirror_mode": {
    "name": "ipython",
    "version": 2
   },
   "file_extension": ".py",
   "mimetype": "text/x-python",
   "name": "python",
   "nbconvert_exporter": "python",
   "pygments_lexer": "ipython2",
   "version": "2.7.13"
  }
 },
 "nbformat": 4,
 "nbformat_minor": 2
}
