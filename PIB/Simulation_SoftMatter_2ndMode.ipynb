{
 "cells": [
  {
   "cell_type": "code",
   "execution_count": 1,
   "metadata": {},
   "outputs": [],
   "source": [
    "from AFM_lib import GenMaxwell_parabolic_LR_niEB\n",
    "import numpy as np\n",
    "import matplotlib.pyplot as plt\n",
    "from numba import jit\n",
    "import pandas as pd\n",
    "import os\n",
    "%matplotlib inline\n",
    "\n",
    "path = os.getcwd()\n"
   ]
  },
  {
   "cell_type": "markdown",
   "metadata": {},
   "source": [
    "## Second mode results"
   ]
  },
  {
   "cell_type": "code",
   "execution_count": 2,
   "metadata": {},
   "outputs": [],
   "source": [
    "k_m1 = 5.80\n",
    "A1, A2, A3 = 0.0, 11.0e-9, 0.0\n",
    "Q1, Q2, Q3 = 167.0,340.0, 500.0\n",
    "fo1 = 45.0e3\n",
    "fo2 = 280.0e3           # resonance frequency of the second eigenmode (value taken from Garcia, R., & Herruzo, E. T. (2012). The emergence of multifrequency force microscopy. Nature nanotechnology, 7(4), 217-226.)\n",
    "fo3 = 17.6*fo1           # resonance frequency of the third eigenmode (value taken from Garcia, R., & Herruzo, E. T. (2012). The emergence of multifrequency force microscopy. Nature nanotechnology, 7(4), 217-226.)\n",
    "k_m2 = 210.0\n",
    "k_m3 = k_m1*(fo3/fo1)**2\n",
    "R = 10.0e-9\n",
    "\n",
    "period1 = 1.0/fo1\n",
    "period2 = 1.0/fo2\n",
    "\n",
    "dt = period2/10.0e3\n",
    "startprint = 8.0*Q1*period1\n",
    "simultime = startprint + 20.0*period2\n",
    "printstep = period2/1.0e3"
   ]
  },
  {
   "cell_type": "code",
   "execution_count": 3,
   "metadata": {},
   "outputs": [],
   "source": [
    "os.chdir(path)\n",
    "\n",
    "df_G = pd.read_csv('PIB.txt', delimiter='\\t', header=None)\n",
    "tau = df_G.iloc[:,0].values\n",
    "G = df_G.iloc[:,1].values\n",
    "Ge = 0.0\n",
    "H = 2.0e-19"
   ]
  },
  {
   "cell_type": "markdown",
   "metadata": {},
   "source": [
    "## Lee & Radok simulation"
   ]
  },
  {
   "cell_type": "code",
   "execution_count": null,
   "metadata": {},
   "outputs": [],
   "source": [
    "path = os.getcwd()\n",
    "\n",
    "os.chdir(path + '/2ndMode')\n",
    "zb = A2\n",
    "GenMaxwell_jit = jit()(GenMaxwell_parabolic_LR_niEB)\n",
    "while zb > -50.0e-9:\n",
    "    %time t, tip, Fts, xb = GenMaxwell_jit(G, tau, R, dt, startprint, simultime, fo1, fo2, fo3, k_m1, k_m2,k_m3, A1, A2, A3, zb, printstep, Ge, Q1, Q2, Q3, H)\n",
    "    name = str(int(zb*1.0e10)) + '.txt'\n",
    "    np.savetxt('%s'%name, np.array((t*1.0e6, tip*1.0e9, Fts*1.0e9, xb*1.0e9)).T, delimiter='\\t', header = 'time(us)\\ttip(nm)\\tFts(nN)\\tXb(nm)')\n",
    "    zb = zb - 2.0e-9"
   ]
  },
  {
   "cell_type": "markdown",
   "metadata": {},
   "source": [
    "## Postprocessing Calculations"
   ]
  },
  {
   "cell_type": "code",
   "execution_count": 6,
   "metadata": {},
   "outputs": [],
   "source": [
    "from glob import glob\n",
    "os.chdir(path)\n",
    "from AFM_calculations import av_dt, Amp_Phase, E_diss, V_ts, Ediss_Tamayo, virial_Lozano\n",
    "\n",
    "os.chdir(path + '/2ndMode')\n",
    "files = glob('*.txt')\n",
    "\n",
    "zeq = []\n",
    "peakF = []\n",
    "maxdepth = []\n",
    "amp = []\n",
    "phase = []\n",
    "Ediss = []\n",
    "Ediss_tamayo = []\n",
    "Vdiss_lozano = []\n",
    "Vdiss = []\n",
    "\n",
    "for i in files:\n",
    "    res = np.loadtxt('%s'%i, skiprows=1)\n",
    "    t = res[:,0]*1.0e-6\n",
    "    dt = av_dt(t)\n",
    "    \n",
    "    tip = res[:,1]*1.0e-9\n",
    "    A,phi = Amp_Phase(t, tip, fo2)\n",
    "    Fts = res[:,2]*1.0e-9\n",
    "    Ets = E_diss(tip, Fts, dt, fo2)\n",
    "    fts_peak = Fts[np.argmax(Fts)]\n",
    "    xb = res[:,3]*1.0e-9\n",
    "    tip_depth = xb[np.argmax(tip)] -xb[np.argmin(tip)]\n",
    "    zb = i.rstrip('.txt')\n",
    "    Vts = V_ts(tip-float(zb)*1.0e-9, Fts, dt)\n",
    "    Ets_tamayo = Ediss_Tamayo(k_m2, Q2, A2, A, phi)\n",
    "    Vts_lozano = virial_Lozano(k_m2, Q2, A2, A, phi)\n",
    "    \n",
    "    #Attaching values to arrays\n",
    "    zeq.append( (float(int(zb)) )/10.0)\n",
    "    peakF.append(fts_peak)\n",
    "    maxdepth.append(tip_depth)\n",
    "    amp.append(A)\n",
    "    phase.append(phi)\n",
    "    Ediss.append(Ets)\n",
    "    Vdiss.append(Vts)\n",
    "    Vdiss_lozano.append(Vts_lozano)\n",
    "    Ediss_tamayo.append(Ets_tamayo)\n",
    "    \n",
    "\n",
    "zeq = np.array(zeq)\n",
    "peakF= np.array(peakF)\n",
    "maxdepth = np.array(maxdepth)\n",
    "amp = np.array(amp)\n",
    "phase = np.array(phase)\n",
    "Ediss = np.array(Ediss)\n",
    "Vdiss = np.array(Vdiss)\n",
    "Vdiss_lozano = np.array(Vdiss_lozano)\n",
    "Ediss_tamayo = np.array(Ediss_tamayo)"
   ]
  },
  {
   "cell_type": "markdown",
   "metadata": {},
   "source": [
    "## Plotting and saving results"
   ]
  },
  {
   "cell_type": "code",
   "execution_count": 7,
   "metadata": {},
   "outputs": [
    {
     "data": {
      "image/png": "[encoded data removed]",
      "text/plain": [
       "<matplotlib.figure.Figure at 0xbfcceb8>"
      ]
     },
     "metadata": {},
     "output_type": "display_data"
    }
   ],
   "source": [
    "A2 = 11.0e-9   #amplitude of the 1st mode\n",
    "A1 =350.0e-9\n",
    "\n",
    "os.chdir(path + '/2ndMode')\n",
    "plt.plot(amp/A2, -maxdepth*1.0e9, '*')\n",
    "plt.xlabel('$A_0/A_2$', fontsize =15)\n",
    "plt.ylabel('Maximum Penetration, nm', fontsize=15)\n",
    "plt.savefig('Max_penetration.png', bbox_inches='tight')\n",
    "plt.plot(amp/A2, peakF*1.0e9, '*')\n",
    "plt.xlabel('$A_0/A_2$', fontsize =15)\n",
    "plt.ylabel('Peak Force, nN', fontsize=15)\n",
    "plt.savefig('Max_Force.png', bbox_inches='tight')\n",
    "\n",
    "z_sort = np.sort(zeq)\n",
    "index = np.argsort(zeq)\n",
    "maxd = []\n",
    "peakforce = []\n",
    "amplitude = []\n",
    "Ets = []\n",
    "phi = []\n",
    "Vts = []\n",
    "Vts_lozano = []\n",
    "Ets_tamayo = []\n",
    "for i in index:\n",
    "    maxd.append(maxdepth[i])\n",
    "    peakforce.append(peakF[i])\n",
    "    amplitude.append(amp[i])\n",
    "    Ets.append(Ediss[i])\n",
    "    phi.append(phase[i])\n",
    "    Ets_tamayo.append(Ediss_tamayo[i])\n",
    "    Vts.append(Vdiss[i])\n",
    "    Vts_lozano.append(Vdiss_lozano[i])\n",
    "\n",
    "maxd = np.array(maxd)\n",
    "peakforce = np.array(peakforce)\n",
    "amplitude = np.array(amplitude)\n",
    "Ets = np.array(Ets)\n",
    "phi = np.array(phi)\n",
    "Ets_tamayo = np.array(Ets_tamayo)\n",
    "Vts = np.array(Vts)\n",
    "Vts_lozano = np.array(Vts_lozano)\n",
    "\n",
    "np.savetxt('2ndMode.txt', np.array((amplitude/A2, peakforce*1.0e9, -maxd*1.0e9, phi, Ets*1.0e18, Ets_tamayo*1.0e18, Vts*1.0e18, Vts_lozano*1.0e18 )).T, delimiter='\\t', header = 'amp_ratio\\tpeakF(nN)\\tmaxdepth(nm)\\tphase(deg)\\tEdiss(aJ)\\tEdiss_Tamayo(aJ)\\tVts(aJ)\\tVts_lozano(aJ)')\n"
   ]
  },
  {
   "cell_type": "code",
   "execution_count": null,
   "metadata": {},
   "outputs": [],
   "source": []
  },
  {
   "cell_type": "markdown",
   "metadata": {},
   "source": [
    "## MDR Simulation"
   ]
  },
  {
   "cell_type": "code",
   "execution_count": null,
   "metadata": {},
   "outputs": [],
   "source": [
    "from AFM_lib import MDR_GenMaxwell_tapping\n",
    "\n",
    "zb = A2 #equilibrium position of transition when 1st mode is also excited\n",
    "MDR_jit = jit()(MDR_GenMaxwell_tapping)\n",
    "while zb > -50.0e-9:\n",
    "    %time t, tip, Fts, xb = MDR_jit(G, tau, R, dt, simultime, zb, A1, k_m1, fo1, printstep, 1000, Ge, 5.0e-9, startprint, Q1, Q2, Q3, H, A2, A3)\n",
    "    name = str(int(zb*1.0e10)) + '.txt'\n",
    "    np.savetxt('%s'%name, np.array((t*1.0e6, tip*1.0e9, Fts*1.0e9, xb*1.0e9)).T, delimiter='\\t', header = 'time(us)\\ttip(nm)\\tFts(nN)\\tXb(nm)')\n",
    "    zb = zb - 2.0e-9\n"
   ]
  },
  {
   "cell_type": "code",
   "execution_count": null,
   "metadata": {},
   "outputs": [],
   "source": []
  }
 ],
 "metadata": {
  "kernelspec": {
   "display_name": "Python 2",
   "language": "python",
   "name": "python2"
  },
  "language_info": {
   "codemirror_mode": {
    "name": "ipython",
    "version": 2
   },
   "file_extension": ".py",
   "mimetype": "text/x-python",
   "name": "python",
   "nbconvert_exporter": "python",
   "pygments_lexer": "ipython2",
   "version": "2.7.13"
  }
 },
 "nbformat": 4,
 "nbformat_minor": 2
}
